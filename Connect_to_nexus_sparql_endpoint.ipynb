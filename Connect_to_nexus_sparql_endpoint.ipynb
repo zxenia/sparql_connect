{
 "cells": [
  {
   "cell_type": "code",
   "execution_count": 1,
   "metadata": {},
   "outputs": [],
   "source": [
    "from SPARQLWrapper import SPARQLWrapper, JSON, GET\n",
    "import pandas as pd"
   ]
  },
  {
   "cell_type": "code",
   "execution_count": 2,
   "metadata": {},
   "outputs": [],
   "source": [
    "# Set sparql endpoint\n",
    "\n",
    "sparql_endpoint = \"https://reservoir.global/v1/views/Public/CONP/graph/sparql\""
   ]
  },
  {
   "cell_type": "code",
   "execution_count": 3,
   "metadata": {},
   "outputs": [],
   "source": [
    "# Configure sparql wrapper, default request method GET, default response format JSON\n",
    "\n",
    "def query_sparql(sparql_endpoint, query, query_method=GET, response_format=JSON):\n",
    "    sparql_wrapper = SPARQLWrapper(sparql_endpoint)\n",
    "    sparql_wrapper.addCustomHttpHeader(\"Content-Type\", \"application/sparql-query\")\n",
    "    sparql_wrapper.setMethod(query_method)\n",
    "    sparql_wrapper.setReturnFormat(response_format)\n",
    "    sparql_wrapper.setQuery(query)\n",
    "    response_object = sparql_wrapper.query()\n",
    "    if sparql_wrapper.returnFormat == JSON:\n",
    "        return response_object._convertJSON()\n",
    "    return response_object.convert()\n",
    "    "
   ]
  },
  {
   "cell_type": "code",
   "execution_count": 4,
   "metadata": {},
   "outputs": [],
   "source": [
    "# Create SPARQL query\n",
    "\n",
    "query_example = \"\"\"\n",
    "SELECT ?s ?p ?o\n",
    "WHERE {?s ?p ?o}\n",
    "LIMIT 2\n",
    "\"\"\""
   ]
  },
  {
   "cell_type": "code",
   "execution_count": null,
   "metadata": {},
   "outputs": [],
   "source": [
    "example_02 = \"\"\"\n",
    "PREFIX rdfs: <http://www.w3.org/2000/01/rdf-schema#>\n",
    "PREFIX sdo: <https://schema.org/>\n",
    "SELECT ?s ?o ?label\n",
    "WHERE {\n",
    "       ?s sdo:description ?o;\n",
    "          rdfs:label ?label.\n",
    "      }\n",
    "LIMIT 10\n",
    "\"\"\""
   ]
  },
  {
   "cell_type": "code",
   "execution_count": 5,
   "metadata": {},
   "outputs": [],
   "source": [
    "# Query sparql endpoint\n",
    "\n",
    "results = query_sparql(sparql_endpoint, query_example)"
   ]
  },
  {
   "cell_type": "code",
   "execution_count": 6,
   "metadata": {
    "scrolled": true
   },
   "outputs": [
    {
     "name": "stdout",
     "output_type": "stream",
     "text": [
      "                                                   s  \\\n",
      "0  https://bluebrain.github.io/nexus/vocabulary/d...   \n",
      "1  https://bluebrain.github.io/nexus/vocabulary/d...   \n",
      "\n",
      "                                                   p  \\\n",
      "0  https://bluebrain.github.io/nexus/vocabulary/c...   \n",
      "1  https://bluebrain.github.io/nexus/vocabulary/c...   \n",
      "\n",
      "                                                   o  \n",
      "0  https://bluebrain.github.io/nexus/schemas/reso...  \n",
      "1                           2020-06-09T14:00:46.977Z  \n"
     ]
    }
   ],
   "source": [
    "# Convert sparql json results into pandas DataFrame\n",
    "\n",
    "def results_to_dataframe(json_results):\n",
    "    columns = json_results[\"head\"][\"vars\"]\n",
    "    data = []\n",
    "    for binding in json_results[\"results\"][\"bindings\"]:\n",
    "        row_values = []\n",
    "        for col in columns:\n",
    "            value = binding.get(col, {})[\"value\"]\n",
    "            row_values.append(value)\n",
    "        data.append(row_values)\n",
    "            \n",
    "    return pd.DataFrame(data, columns=columns)\n",
    "\n",
    "print(results_to_dataframe(results))"
   ]
  },
  {
   "cell_type": "code",
   "execution_count": 7,
   "metadata": {},
   "outputs": [],
   "source": [
    "# Save DataFrame to csv\n",
    "\n",
    "def dataframe_to_csv(filename=\"sparql_results\"):\n",
    "    return results_to_dataframe(results).to_csv(f\"{filename}.csv\")\n",
    "\n",
    "dataframe_to_csv()"
   ]
  }
 ],
 "metadata": {
  "kernelspec": {
   "display_name": "Python 3",
   "language": "python",
   "name": "python3"
  },
  "language_info": {
   "codemirror_mode": {
    "name": "ipython",
    "version": 3
   },
   "file_extension": ".py",
   "mimetype": "text/x-python",
   "name": "python",
   "nbconvert_exporter": "python",
   "pygments_lexer": "ipython3",
   "version": "3.7.9"
  }
 },
 "nbformat": 4,
 "nbformat_minor": 4
}
