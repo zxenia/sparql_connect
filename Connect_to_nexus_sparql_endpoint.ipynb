{
 "cells": [
  {
   "cell_type": "code",
   "execution_count": null,
   "metadata": {},
   "outputs": [],
   "source": [
    "from SPARQLWrapper import SPARQLWrapper, JSON, GET\n",
    "import pandas as pd"
   ]
  },
  {
   "cell_type": "code",
   "execution_count": null,
   "metadata": {},
   "outputs": [],
   "source": [
    "# Set sparql endpoint\n",
    "\n",
    "sparql_endpoint = \"\""
   ]
  },
  {
   "cell_type": "code",
   "execution_count": null,
   "metadata": {},
   "outputs": [],
   "source": [
    "# Configure sparql wrapper, default request method GET, default response format JSON\n",
    "\n",
    "def query_sparql(sparql_endpoint, query, query_method=GET, response_format=JSON):\n",
    "    sparql_wrapper = SPARQLWrapper(sparql_endpoint)\n",
    "    sparql_wrapper.addCustomHttpHeader(\"Content-Type\", \"application/sparql-query\")\n",
    "    sparql_wrapper.setMethod(query_method)\n",
    "    sparql_wrapper.setReturnFormat(response_format)\n",
    "    sparql_wrapper.setQuery(query)\n",
    "    response_object = sparql_wrapper.query()\n",
    "    if sparql_wrapper.returnFormat == JSON:\n",
    "        return response_object._convertJSON()\n",
    "    return response_object.convert()\n",
    "    "
   ]
  },
  {
   "cell_type": "code",
   "execution_count": null,
   "metadata": {},
   "outputs": [],
   "source": [
    "# Create SPARQL query\n",
    "\n",
    "query_example = \"\"\"\n",
    "SELECT ?s ?p ?o\n",
    "WHERE {?s ?p ?o}\n",
    "LIMIT 2\n",
    "\"\"\""
   ]
  },
  {
   "cell_type": "code",
   "execution_count": null,
   "metadata": {},
   "outputs": [],
   "source": [
    "# Query sparql endpoint\n",
    "\n",
    "results = query_sparql(sparql_endpoint, query_example)"
   ]
  },
  {
   "cell_type": "code",
   "execution_count": null,
   "metadata": {
    "scrolled": true
   },
   "outputs": [],
   "source": [
    "# Convert sparql json results into pandas DataFrame\n",
    "\n",
    "def results_to_dataframe(json_results):\n",
    "    columns = json_results[\"head\"][\"vars\"]\n",
    "    data = []\n",
    "    for binding in json_results[\"results\"][\"bindings\"]:\n",
    "        row_values = []\n",
    "        for col in columns:\n",
    "            value = binding.get(col, {})[\"value\"]\n",
    "            row_values.append(value)\n",
    "        data.append(row_values)\n",
    "            \n",
    "    return pd.DataFrame(data, columns=columns)\n",
    "\n",
    "print(results_to_dataframe(results))"
   ]
  },
  {
   "cell_type": "code",
   "execution_count": null,
   "metadata": {},
   "outputs": [],
   "source": [
    "# Save DataFrame to csv\n",
    "\n",
    "def dataframe_to_csv(filename=\"sparql_results\"):\n",
    "    return results_to_dataframe(results).to_csv(f\"{filename}.csv\")\n",
    "\n",
    "dataframe_to_csv()"
   ]
  }
 ],
 "metadata": {
  "kernelspec": {
   "display_name": "Python 3",
   "language": "python",
   "name": "python3"
  },
  "language_info": {
   "codemirror_mode": {
    "name": "ipython",
    "version": 3
   },
   "file_extension": ".py",
   "mimetype": "text/x-python",
   "name": "python",
   "nbconvert_exporter": "python",
   "pygments_lexer": "ipython3",
   "version": "3.7.9"
  }
 },
 "nbformat": 4,
 "nbformat_minor": 4
}
