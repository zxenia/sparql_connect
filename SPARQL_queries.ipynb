{
 "cells": [
  {
   "cell_type": "code",
   "execution_count": 4,
   "metadata": {},
   "outputs": [],
   "source": [
    "from ipynb.fs.full.Connect_to_nexus_sparql_endpoint import query_sparql, results_to_dataframe"
   ]
  },
  {
   "cell_type": "code",
   "execution_count": 5,
   "metadata": {},
   "outputs": [
    {
     "name": "stdout",
     "output_type": "stream",
     "text": [
      "                                    broader_term          label\n",
      "0  http://purl.obolibrary.org/obo/UBERON_0013529  Brodmann area\n"
     ]
    }
   ],
   "source": [
    "# Find borader term of a specific ontology term\n",
    "\n",
    "ontobee_sparql_endpoint = \"http://sparql.hegroup.org/sparql/\"\n",
    "\n",
    "example_ontobee = \"\"\"\n",
    "PREFIX obo-term: <http://purl.obolibrary.org/obo/>\n",
    "SELECT DISTINCT ?broader_term ?label\n",
    "from <http://purl.obolibrary.org/obo/merged/UBERON>\n",
    "WHERE\n",
    "{\n",
    "obo-term:UBERON_0013528 rdfs:subClassOf ?broader_term.\n",
    "?broader_term rdfs:label ?label.\n",
    "}\n",
    "\"\"\"\n",
    "\n",
    "ontobee_results = query_sparql(ontobee_sparql_endpoint, example_ontobee)\n",
    "print(results_to_dataframe(ontobee_results))"
   ]
  },
  {
   "cell_type": "code",
   "execution_count": null,
   "metadata": {},
   "outputs": [],
   "source": []
  }
 ],
 "metadata": {
  "kernelspec": {
   "display_name": "Python 3",
   "language": "python",
   "name": "python3"
  },
  "language_info": {
   "codemirror_mode": {
    "name": "ipython",
    "version": 3
   },
   "file_extension": ".py",
   "mimetype": "text/x-python",
   "name": "python",
   "nbconvert_exporter": "python",
   "pygments_lexer": "ipython3",
   "version": "3.7.9"
  }
 },
 "nbformat": 4,
 "nbformat_minor": 4
}
